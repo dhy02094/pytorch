{
  "nbformat": 4,
  "nbformat_minor": 0,
  "metadata": {
    "colab": {
      "name": "pytorch로 벌과 개 분류.ipynb",
      "provenance": [],
      "mount_file_id": "1CcDjviAHViLnwZXvxDqKOoNpWw1KuFhp",
      "authorship_tag": "ABX9TyOS6IpPZneO+Cw4WYQhS4KJ",
      "include_colab_link": true
    },
    "kernelspec": {
      "name": "python3",
      "display_name": "Python 3"
    },
    "language_info": {
      "name": "python"
    },
    "accelerator": "GPU"
  },
  "cells": [
    {
      "cell_type": "markdown",
      "metadata": {
        "id": "view-in-github",
        "colab_type": "text"
      },
      "source": [
        "<a href=\"https://colab.research.google.com/github/dhy02094/pytorch/blob/master/pytorch%EB%A1%9C_%EB%B2%8C%EA%B3%BC_%EA%B0%9C_%EB%B6%84%EB%A5%98.ipynb\" target=\"_parent\"><img src=\"https://colab.research.google.com/assets/colab-badge.svg\" alt=\"Open In Colab\"/></a>"
      ]
    },
    {
      "cell_type": "code",
      "execution_count": 1,
      "metadata": {
        "colab": {
          "base_uri": "https://localhost:8080/"
        },
        "id": "Y0YhSiKaePvE",
        "outputId": "5ba8563d-c3c3-47ba-8c58-a045d7ac89ba"
      },
      "outputs": [
        {
          "output_type": "stream",
          "name": "stdout",
          "text": [
            "/content/drive/MyDrive/pytorch/1_image_classfication\n"
          ]
        }
      ],
      "source": [
        "%cd /content/drive/MyDrive/pytorch/1_image_classfication"
      ]
    },
    {
      "cell_type": "code",
      "source": [
        "import tqdm"
      ],
      "metadata": {
        "id": "_5ThZzfCekNO"
      },
      "execution_count": 2,
      "outputs": []
    },
    {
      "cell_type": "code",
      "source": [
        "import glob\n",
        "import os.path as osp\n",
        "import random\n",
        "import numpy as np\n",
        "import json\n",
        "from PIL import Image\n",
        "from tqdm import tqdm\n",
        "import matplotlib.pyplot as plt\n",
        "%matplotlib inline\n",
        "\n",
        "import torch\n",
        "import torch.nn as nn\n",
        "import torch.optim as optim\n",
        "import torch.utils.data as data\n",
        "import torchvision\n",
        "from torchvision import models, transforms\n",
        "\n",
        "# 난수 설정\n",
        "torch.manual_seed(1234)\n",
        "np.random.seed(1234)\n",
        "random.seed(1234)"
      ],
      "metadata": {
        "id": "8Th3w8v_eocw"
      },
      "execution_count": 3,
      "outputs": []
    },
    {
      "cell_type": "code",
      "source": [
        "from torchvision.transforms.transforms import RandomHorizontalFlip\n",
        "# 입력 화상의 전처리 클래스\n",
        "\n",
        "class ImageTransform():\n",
        "    \"\"\"\n",
        "    화상 전처리 클래스. 훈련시, 검증 시의 동작이 다르다.\n",
        "    화상 크기를 리사이즈하고 색상을 표준화한다.\n",
        "    훈련시에는 RandomResizedCrop과 RandomHorizontalFlip으로 데이터를 확장한다.\n",
        "    \n",
        "    resize : int\n",
        "        리사이즈 대상 화상의 크기\n",
        "    mean : (R,G,B)\n",
        "        각 색상 채널의 평균값\n",
        "    std : (R,G,B)\n",
        "        각 색상 채널의 표준편차\n",
        "    \"\"\"\n",
        "\n",
        "    def __init__(self, resize, mean, std):\n",
        "        self.data_transform = {\n",
        "            'train': transforms.Compose([\n",
        "                transforms.RandomResizedCrop(\n",
        "                    resize, scale=(0.5, 1.0)),  #데이터 확장\n",
        "                transforms.RandomHorizontalFlip(),  #데이터 확장\n",
        "                transforms.ToTensor(),         # 텐서로 변환\n",
        "                transforms.Normalize(mean,std) # 표준화\n",
        "            ]),\n",
        "            'val' : transforms.Compose([\n",
        "                transforms.Resize(resize),       #리사이즈\n",
        "                transforms.CenterCrop(resize),   # 화상 중앙을 resize*resize로 자른다.\n",
        "                transforms.ToTensor(),           # 텐서로 변환\n",
        "                transforms.Normalize(mean,std)   # 표준화\n",
        "            ])\n",
        "        }\n",
        "\n",
        "\n",
        "    def __call__(self, img, phase='train'):\n",
        "        \"\"\"\n",
        "        Parameters\n",
        "        ----------\n",
        "        phase : 'train' or 'val' 설정\n",
        "        \"\"\"\n",
        "\n",
        "        return self.data_transform[phase](img)\n"
      ],
      "metadata": {
        "id": "Ll8XG6n9fRNv"
      },
      "execution_count": 4,
      "outputs": []
    },
    {
      "cell_type": "code",
      "source": [
        "# 위 클래스 사용해보기\n",
        "\n",
        "# 1. 화상 읽기\n",
        "image_file_path = '/content/drive/MyDrive/pytorch/1_image_classfication/data/hymenoptera_data/train/ants/0013035.jpg'\n",
        "img = Image.open(image_file_path)\n",
        "\n",
        "# 2. 원본 사진 표시\n",
        "plt.imshow(img)\n",
        "plt.show()\n",
        "\n",
        "# 3. 화상 전처리, 처리된 화상 표시\n",
        "size = 224\n",
        "mean = (0.485,0.456,0.406)\n",
        "std = (0.229,0.224,0.225)\n",
        "\n",
        "transform = ImageTransform(size,mean,std)\n",
        "img_transformed = transform(img,phase='train') # torch.Size([3,224,224]) 토치 종특\n",
        "\n",
        "# (c, h, w) -> (h,w,c) and 0-1 값으로 제한\n",
        "img_transformed = img_transformed.numpy().transpose(1,2,0)  # 1,2,0 순서로 보낸다\n",
        "img_transformed = np.clip(img_transformed,0,1)\n",
        "plt.imshow(img_transformed)\n",
        "plt.show()\n"
      ],
      "metadata": {
        "colab": {
          "base_uri": "https://localhost:8080/",
          "height": 521
        },
        "id": "h4Giz2xnh5aa",
        "outputId": "03db2d7c-782e-487f-e387-7cc7c449c453"
      },
      "execution_count": 5,
      "outputs": [
        {
          "output_type": "display_data",
          "data": {
            "text/plain": [
              "<Figure size 432x288 with 1 Axes>"
            ],
            "image/png": "[encoded data removed]"
          },
          "metadata": {
            "needs_background": "light"
          }
        },
        {
          "output_type": "display_data",
          "data": {
            "text/plain": [
              "<Figure size 432x288 with 1 Axes>"
            ],
            "image/png": "[encoded data removed]"
          },
          "metadata": {
            "needs_background": "light"
          }
        }
      ]
    },
    {
      "cell_type": "markdown",
      "source": [
        ">실행할 때마다 사진이 확장되고 반전되고 결과가 변한다."
      ],
      "metadata": {
        "id": "7scAtwapjQBy"
      }
    },
    {
      "cell_type": "code",
      "source": [
        "# 개미와 벌이 담긴 사진 파일의 경로 리스트 작성\n",
        "def make_datapath_list(phase='train'):\n",
        "    rootpath='/content/drive/MyDrive/pytorch/1_image_classfication/data/hymenoptera_data/'\n",
        "    target_path = osp.join(rootpath+phase+'/**/*.jpg')\n",
        "    print(target_path)\n",
        "\n",
        "    path_list = []\n",
        "\n",
        "    for path in glob.glob(target_path):\n",
        "        path_list.append(path)\n",
        "\n",
        "    return path_list"
      ],
      "metadata": {
        "id": "yYVRsdVfjGNE"
      },
      "execution_count": 6,
      "outputs": []
    },
    {
      "cell_type": "code",
      "source": [
        "train_list = make_datapath_list(phase='train')\n",
        "val_list = make_datapath_list(phase='val')\n",
        "\n",
        "train_list"
      ],
      "metadata": {
        "colab": {
          "base_uri": "https://localhost:8080/"
        },
        "id": "oilHpAhvkE6Q",
        "outputId": "3d3c4c8f-0e75-488e-ae7e-93f370b99f21"
      },
      "execution_count": 7,
      "outputs": [
        {
          "output_type": "stream",
          "name": "stdout",
          "text": [
            "/content/drive/MyDrive/pytorch/1_image_classfication/data/hymenoptera_data/train/**/*.jpg\n",
            "/content/drive/MyDrive/pytorch/1_image_classfication/data/hymenoptera_data/val/**/*.jpg\n"
          ]
        },
        {
          "output_type": "execute_result",
          "data": {
            "text/plain": [
              "['/content/drive/MyDrive/pytorch/1_image_classfication/data/hymenoptera_data/train/ants/0013035.jpg',\n",
              " '/content/drive/MyDrive/pytorch/1_image_classfication/data/hymenoptera_data/train/ants/1030023514_aad5c608f9.jpg',\n",
              " '/content/drive/MyDrive/pytorch/1_image_classfication/data/hymenoptera_data/train/ants/1095476100_3906d8afde.jpg',\n",
              " '/content/drive/MyDrive/pytorch/1_image_classfication/data/hymenoptera_data/train/ants/1099452230_d1949d3250.jpg',\n",
              " '/content/drive/MyDrive/pytorch/1_image_classfication/data/hymenoptera_data/train/ants/116570827_e9c126745d.jpg',\n",
              " '/content/drive/MyDrive/pytorch/1_image_classfication/data/hymenoptera_data/train/ants/1225872729_6f0856588f.jpg',\n",
              " '/content/drive/MyDrive/pytorch/1_image_classfication/data/hymenoptera_data/train/ants/1262877379_64fcada201.jpg',\n",
              " '/content/drive/MyDrive/pytorch/1_image_classfication/data/hymenoptera_data/train/ants/1269756697_0bce92cdab.jpg',\n",
              " '/content/drive/MyDrive/pytorch/1_image_classfication/data/hymenoptera_data/train/ants/1286984635_5119e80de1.jpg',\n",
              " '/content/drive/MyDrive/pytorch/1_image_classfication/data/hymenoptera_data/train/ants/132478121_2a430adea2.jpg',\n",
              " '/content/drive/MyDrive/pytorch/1_image_classfication/data/hymenoptera_data/train/ants/1360291657_dc248c5eea.jpg',\n",
              " '/content/drive/MyDrive/pytorch/1_image_classfication/data/hymenoptera_data/train/ants/1368913450_e146e2fb6d.jpg',\n",
              " '/content/drive/MyDrive/pytorch/1_image_classfication/data/hymenoptera_data/train/ants/1473187633_63ccaacea6.jpg',\n",
              " '/content/drive/MyDrive/pytorch/1_image_classfication/data/hymenoptera_data/train/ants/148715752_302c84f5a4.jpg',\n",
              " '/content/drive/MyDrive/pytorch/1_image_classfication/data/hymenoptera_data/train/ants/1489674356_09d48dde0a.jpg',\n",
              " '/content/drive/MyDrive/pytorch/1_image_classfication/data/hymenoptera_data/train/ants/149244013_c529578289.jpg',\n",
              " '/content/drive/MyDrive/pytorch/1_image_classfication/data/hymenoptera_data/train/ants/150801003_3390b73135.jpg',\n",
              " '/content/drive/MyDrive/pytorch/1_image_classfication/data/hymenoptera_data/train/ants/150801171_cd86f17ed8.jpg',\n",
              " '/content/drive/MyDrive/pytorch/1_image_classfication/data/hymenoptera_data/train/ants/154124431_65460430f2.jpg',\n",
              " '/content/drive/MyDrive/pytorch/1_image_classfication/data/hymenoptera_data/train/ants/162603798_40b51f1654.jpg',\n",
              " '/content/drive/MyDrive/pytorch/1_image_classfication/data/hymenoptera_data/train/ants/1660097129_384bf54490.jpg',\n",
              " '/content/drive/MyDrive/pytorch/1_image_classfication/data/hymenoptera_data/train/ants/167890289_dd5ba923f3.jpg',\n",
              " '/content/drive/MyDrive/pytorch/1_image_classfication/data/hymenoptera_data/train/ants/1693954099_46d4c20605.jpg',\n",
              " '/content/drive/MyDrive/pytorch/1_image_classfication/data/hymenoptera_data/train/ants/175998972.jpg',\n",
              " '/content/drive/MyDrive/pytorch/1_image_classfication/data/hymenoptera_data/train/ants/178538489_bec7649292.jpg',\n",
              " '/content/drive/MyDrive/pytorch/1_image_classfication/data/hymenoptera_data/train/ants/1804095607_0341701e1c.jpg',\n",
              " '/content/drive/MyDrive/pytorch/1_image_classfication/data/hymenoptera_data/train/ants/1808777855_2a895621d7.jpg',\n",
              " '/content/drive/MyDrive/pytorch/1_image_classfication/data/hymenoptera_data/train/ants/188552436_605cc9b36b.jpg',\n",
              " '/content/drive/MyDrive/pytorch/1_image_classfication/data/hymenoptera_data/train/ants/1917341202_d00a7f9af5.jpg',\n",
              " '/content/drive/MyDrive/pytorch/1_image_classfication/data/hymenoptera_data/train/ants/1924473702_daa9aacdbe.jpg',\n",
              " '/content/drive/MyDrive/pytorch/1_image_classfication/data/hymenoptera_data/train/ants/196057951_63bf063b92.jpg',\n",
              " '/content/drive/MyDrive/pytorch/1_image_classfication/data/hymenoptera_data/train/ants/196757565_326437f5fe.jpg',\n",
              " '/content/drive/MyDrive/pytorch/1_image_classfication/data/hymenoptera_data/train/ants/201558278_fe4caecc76.jpg',\n",
              " '/content/drive/MyDrive/pytorch/1_image_classfication/data/hymenoptera_data/train/ants/201790779_527f4c0168.jpg',\n",
              " '/content/drive/MyDrive/pytorch/1_image_classfication/data/hymenoptera_data/train/ants/2019439677_2db655d361.jpg',\n",
              " '/content/drive/MyDrive/pytorch/1_image_classfication/data/hymenoptera_data/train/ants/207947948_3ab29d7207.jpg',\n",
              " '/content/drive/MyDrive/pytorch/1_image_classfication/data/hymenoptera_data/train/ants/20935278_9190345f6b.jpg',\n",
              " '/content/drive/MyDrive/pytorch/1_image_classfication/data/hymenoptera_data/train/ants/224655713_3956f7d39a.jpg',\n",
              " '/content/drive/MyDrive/pytorch/1_image_classfication/data/hymenoptera_data/train/ants/2265824718_2c96f485da.jpg',\n",
              " '/content/drive/MyDrive/pytorch/1_image_classfication/data/hymenoptera_data/train/ants/2265825502_fff99cfd2d.jpg',\n",
              " '/content/drive/MyDrive/pytorch/1_image_classfication/data/hymenoptera_data/train/ants/226951206_d6bf946504.jpg',\n",
              " '/content/drive/MyDrive/pytorch/1_image_classfication/data/hymenoptera_data/train/ants/2278278459_6b99605e50.jpg',\n",
              " '/content/drive/MyDrive/pytorch/1_image_classfication/data/hymenoptera_data/train/ants/2288450226_a6e96e8fdf.jpg',\n",
              " '/content/drive/MyDrive/pytorch/1_image_classfication/data/hymenoptera_data/train/ants/2288481644_83ff7e4572.jpg',\n",
              " '/content/drive/MyDrive/pytorch/1_image_classfication/data/hymenoptera_data/train/ants/2292213964_ca51ce4bef.jpg',\n",
              " '/content/drive/MyDrive/pytorch/1_image_classfication/data/hymenoptera_data/train/ants/24335309_c5ea483bb8.jpg',\n",
              " '/content/drive/MyDrive/pytorch/1_image_classfication/data/hymenoptera_data/train/ants/245647475_9523dfd13e.jpg',\n",
              " '/content/drive/MyDrive/pytorch/1_image_classfication/data/hymenoptera_data/train/ants/255434217_1b2b3fe0a4.jpg',\n",
              " '/content/drive/MyDrive/pytorch/1_image_classfication/data/hymenoptera_data/train/ants/258217966_d9d90d18d3.jpg',\n",
              " '/content/drive/MyDrive/pytorch/1_image_classfication/data/hymenoptera_data/train/ants/275429470_b2d7d9290b.jpg',\n",
              " '/content/drive/MyDrive/pytorch/1_image_classfication/data/hymenoptera_data/train/ants/28847243_e79fe052cd.jpg',\n",
              " '/content/drive/MyDrive/pytorch/1_image_classfication/data/hymenoptera_data/train/ants/318052216_84dff3f98a.jpg',\n",
              " '/content/drive/MyDrive/pytorch/1_image_classfication/data/hymenoptera_data/train/ants/334167043_cbd1adaeb9.jpg',\n",
              " '/content/drive/MyDrive/pytorch/1_image_classfication/data/hymenoptera_data/train/ants/339670531_94b75ae47a.jpg',\n",
              " '/content/drive/MyDrive/pytorch/1_image_classfication/data/hymenoptera_data/train/ants/342438950_a3da61deab.jpg',\n",
              " '/content/drive/MyDrive/pytorch/1_image_classfication/data/hymenoptera_data/train/ants/36439863_0bec9f554f.jpg',\n",
              " '/content/drive/MyDrive/pytorch/1_image_classfication/data/hymenoptera_data/train/ants/374435068_7eee412ec4.jpg',\n",
              " '/content/drive/MyDrive/pytorch/1_image_classfication/data/hymenoptera_data/train/ants/382971067_0bfd33afe0.jpg',\n",
              " '/content/drive/MyDrive/pytorch/1_image_classfication/data/hymenoptera_data/train/ants/384191229_5779cf591b.jpg',\n",
              " '/content/drive/MyDrive/pytorch/1_image_classfication/data/hymenoptera_data/train/ants/386190770_672743c9a7.jpg',\n",
              " '/content/drive/MyDrive/pytorch/1_image_classfication/data/hymenoptera_data/train/ants/392382602_1b7bed32fa.jpg',\n",
              " '/content/drive/MyDrive/pytorch/1_image_classfication/data/hymenoptera_data/train/ants/403746349_71384f5b58.jpg',\n",
              " '/content/drive/MyDrive/pytorch/1_image_classfication/data/hymenoptera_data/train/ants/408393566_b5b694119b.jpg',\n",
              " '/content/drive/MyDrive/pytorch/1_image_classfication/data/hymenoptera_data/train/ants/424119020_6d57481dab.jpg',\n",
              " '/content/drive/MyDrive/pytorch/1_image_classfication/data/hymenoptera_data/train/ants/424873399_47658a91fb.jpg',\n",
              " '/content/drive/MyDrive/pytorch/1_image_classfication/data/hymenoptera_data/train/ants/450057712_771b3bfc91.jpg',\n",
              " '/content/drive/MyDrive/pytorch/1_image_classfication/data/hymenoptera_data/train/ants/45472593_bfd624f8dc.jpg',\n",
              " '/content/drive/MyDrive/pytorch/1_image_classfication/data/hymenoptera_data/train/ants/459694881_ac657d3187.jpg',\n",
              " '/content/drive/MyDrive/pytorch/1_image_classfication/data/hymenoptera_data/train/ants/460372577_f2f6a8c9fc.jpg',\n",
              " '/content/drive/MyDrive/pytorch/1_image_classfication/data/hymenoptera_data/train/ants/460874319_0a45ab4d05.jpg',\n",
              " '/content/drive/MyDrive/pytorch/1_image_classfication/data/hymenoptera_data/train/ants/466430434_4000737de9.jpg',\n",
              " '/content/drive/MyDrive/pytorch/1_image_classfication/data/hymenoptera_data/train/ants/470127037_513711fd21.jpg',\n",
              " '/content/drive/MyDrive/pytorch/1_image_classfication/data/hymenoptera_data/train/ants/474806473_ca6caab245.jpg',\n",
              " '/content/drive/MyDrive/pytorch/1_image_classfication/data/hymenoptera_data/train/ants/475961153_b8c13fd405.jpg',\n",
              " '/content/drive/MyDrive/pytorch/1_image_classfication/data/hymenoptera_data/train/ants/484293231_e53cfc0c89.jpg',\n",
              " '/content/drive/MyDrive/pytorch/1_image_classfication/data/hymenoptera_data/train/ants/49375974_e28ba6f17e.jpg',\n",
              " '/content/drive/MyDrive/pytorch/1_image_classfication/data/hymenoptera_data/train/ants/506249802_207cd979b4.jpg',\n",
              " '/content/drive/MyDrive/pytorch/1_image_classfication/data/hymenoptera_data/train/ants/506249836_717b73f540.jpg',\n",
              " '/content/drive/MyDrive/pytorch/1_image_classfication/data/hymenoptera_data/train/ants/512164029_c0a66b8498.jpg',\n",
              " '/content/drive/MyDrive/pytorch/1_image_classfication/data/hymenoptera_data/train/ants/512863248_43c8ce579b.jpg',\n",
              " '/content/drive/MyDrive/pytorch/1_image_classfication/data/hymenoptera_data/train/ants/518773929_734dbc5ff4.jpg',\n",
              " '/content/drive/MyDrive/pytorch/1_image_classfication/data/hymenoptera_data/train/ants/522163566_fec115ca66.jpg',\n",
              " '/content/drive/MyDrive/pytorch/1_image_classfication/data/hymenoptera_data/train/ants/522415432_2218f34bf8.jpg',\n",
              " '/content/drive/MyDrive/pytorch/1_image_classfication/data/hymenoptera_data/train/ants/531979952_bde12b3bc0.jpg',\n",
              " '/content/drive/MyDrive/pytorch/1_image_classfication/data/hymenoptera_data/train/ants/533848102_70a85ad6dd.jpg',\n",
              " '/content/drive/MyDrive/pytorch/1_image_classfication/data/hymenoptera_data/train/ants/535522953_308353a07c.jpg',\n",
              " '/content/drive/MyDrive/pytorch/1_image_classfication/data/hymenoptera_data/train/ants/540889389_48bb588b21.jpg',\n",
              " '/content/drive/MyDrive/pytorch/1_image_classfication/data/hymenoptera_data/train/ants/541630764_dbd285d63c.jpg',\n",
              " '/content/drive/MyDrive/pytorch/1_image_classfication/data/hymenoptera_data/train/ants/543417860_b14237f569.jpg',\n",
              " '/content/drive/MyDrive/pytorch/1_image_classfication/data/hymenoptera_data/train/ants/560966032_988f4d7bc4.jpg',\n",
              " '/content/drive/MyDrive/pytorch/1_image_classfication/data/hymenoptera_data/train/ants/5650366_e22b7e1065.jpg',\n",
              " '/content/drive/MyDrive/pytorch/1_image_classfication/data/hymenoptera_data/train/ants/6240329_72c01e663e.jpg',\n",
              " '/content/drive/MyDrive/pytorch/1_image_classfication/data/hymenoptera_data/train/ants/6240338_93729615ec.jpg',\n",
              " '/content/drive/MyDrive/pytorch/1_image_classfication/data/hymenoptera_data/train/ants/649026570_e58656104b.jpg',\n",
              " '/content/drive/MyDrive/pytorch/1_image_classfication/data/hymenoptera_data/train/ants/662541407_ff8db781e7.jpg',\n",
              " '/content/drive/MyDrive/pytorch/1_image_classfication/data/hymenoptera_data/train/ants/67270775_e9fdf77e9d.jpg',\n",
              " '/content/drive/MyDrive/pytorch/1_image_classfication/data/hymenoptera_data/train/ants/6743948_2b8c096dda.jpg',\n",
              " '/content/drive/MyDrive/pytorch/1_image_classfication/data/hymenoptera_data/train/ants/684133190_35b62c0c1d.jpg',\n",
              " '/content/drive/MyDrive/pytorch/1_image_classfication/data/hymenoptera_data/train/ants/69639610_95e0de17aa.jpg',\n",
              " '/content/drive/MyDrive/pytorch/1_image_classfication/data/hymenoptera_data/train/ants/707895295_009cf23188.jpg',\n",
              " '/content/drive/MyDrive/pytorch/1_image_classfication/data/hymenoptera_data/train/ants/7759525_1363d24e88.jpg',\n",
              " '/content/drive/MyDrive/pytorch/1_image_classfication/data/hymenoptera_data/train/ants/795000156_a9900a4a71.jpg',\n",
              " '/content/drive/MyDrive/pytorch/1_image_classfication/data/hymenoptera_data/train/ants/822537660_caf4ba5514.jpg',\n",
              " '/content/drive/MyDrive/pytorch/1_image_classfication/data/hymenoptera_data/train/ants/82852639_52b7f7f5e3.jpg',\n",
              " '/content/drive/MyDrive/pytorch/1_image_classfication/data/hymenoptera_data/train/ants/841049277_b28e58ad05.jpg',\n",
              " '/content/drive/MyDrive/pytorch/1_image_classfication/data/hymenoptera_data/train/ants/886401651_f878e888cd.jpg',\n",
              " '/content/drive/MyDrive/pytorch/1_image_classfication/data/hymenoptera_data/train/ants/892108839_f1aad4ca46.jpg',\n",
              " '/content/drive/MyDrive/pytorch/1_image_classfication/data/hymenoptera_data/train/ants/938946700_ca1c669085.jpg',\n",
              " '/content/drive/MyDrive/pytorch/1_image_classfication/data/hymenoptera_data/train/ants/957233405_25c1d1187b.jpg',\n",
              " '/content/drive/MyDrive/pytorch/1_image_classfication/data/hymenoptera_data/train/ants/9715481_b3cb4114ff.jpg',\n",
              " '/content/drive/MyDrive/pytorch/1_image_classfication/data/hymenoptera_data/train/ants/998118368_6ac1d91f81.jpg',\n",
              " '/content/drive/MyDrive/pytorch/1_image_classfication/data/hymenoptera_data/train/ants/ant photos.jpg',\n",
              " '/content/drive/MyDrive/pytorch/1_image_classfication/data/hymenoptera_data/train/ants/Ant_1.jpg',\n",
              " '/content/drive/MyDrive/pytorch/1_image_classfication/data/hymenoptera_data/train/ants/army-ants-red-picture.jpg',\n",
              " '/content/drive/MyDrive/pytorch/1_image_classfication/data/hymenoptera_data/train/ants/hormiga_co_por.jpg',\n",
              " '/content/drive/MyDrive/pytorch/1_image_classfication/data/hymenoptera_data/train/ants/kurokusa.jpg',\n",
              " '/content/drive/MyDrive/pytorch/1_image_classfication/data/hymenoptera_data/train/ants/MehdiabadiAnt2_600.jpg',\n",
              " '/content/drive/MyDrive/pytorch/1_image_classfication/data/hymenoptera_data/train/ants/Nepenthes_rafflesiana_ant.jpg',\n",
              " '/content/drive/MyDrive/pytorch/1_image_classfication/data/hymenoptera_data/train/ants/swiss-army-ant.jpg',\n",
              " '/content/drive/MyDrive/pytorch/1_image_classfication/data/hymenoptera_data/train/ants/termite-vs-ant.jpg',\n",
              " '/content/drive/MyDrive/pytorch/1_image_classfication/data/hymenoptera_data/train/ants/trap-jaw-ant-insect-bg.jpg',\n",
              " '/content/drive/MyDrive/pytorch/1_image_classfication/data/hymenoptera_data/train/ants/VietnameseAntMimicSpider.jpg',\n",
              " '/content/drive/MyDrive/pytorch/1_image_classfication/data/hymenoptera_data/train/bees/1092977343_cb42b38d62.jpg',\n",
              " '/content/drive/MyDrive/pytorch/1_image_classfication/data/hymenoptera_data/train/bees/1093831624_fb5fbe2308.jpg',\n",
              " '/content/drive/MyDrive/pytorch/1_image_classfication/data/hymenoptera_data/train/bees/1097045929_1753d1c765.jpg',\n",
              " '/content/drive/MyDrive/pytorch/1_image_classfication/data/hymenoptera_data/train/bees/1232245714_f862fbe385.jpg',\n",
              " '/content/drive/MyDrive/pytorch/1_image_classfication/data/hymenoptera_data/train/bees/129236073_0985e91c7d.jpg',\n",
              " '/content/drive/MyDrive/pytorch/1_image_classfication/data/hymenoptera_data/train/bees/1295655112_7813f37d21.jpg',\n",
              " '/content/drive/MyDrive/pytorch/1_image_classfication/data/hymenoptera_data/train/bees/132511197_0b86ad0fff.jpg',\n",
              " '/content/drive/MyDrive/pytorch/1_image_classfication/data/hymenoptera_data/train/bees/132826773_dbbcb117b9.jpg',\n",
              " '/content/drive/MyDrive/pytorch/1_image_classfication/data/hymenoptera_data/train/bees/150013791_969d9a968b.jpg',\n",
              " '/content/drive/MyDrive/pytorch/1_image_classfication/data/hymenoptera_data/train/bees/1508176360_2972117c9d.jpg',\n",
              " '/content/drive/MyDrive/pytorch/1_image_classfication/data/hymenoptera_data/train/bees/154600396_53e1252e52.jpg',\n",
              " '/content/drive/MyDrive/pytorch/1_image_classfication/data/hymenoptera_data/train/bees/16838648_415acd9e3f.jpg',\n",
              " '/content/drive/MyDrive/pytorch/1_image_classfication/data/hymenoptera_data/train/bees/1691282715_0addfdf5e8.jpg',\n",
              " '/content/drive/MyDrive/pytorch/1_image_classfication/data/hymenoptera_data/train/bees/17209602_fe5a5a746f.jpg',\n",
              " '/content/drive/MyDrive/pytorch/1_image_classfication/data/hymenoptera_data/train/bees/174142798_e5ad6d76e0.jpg',\n",
              " '/content/drive/MyDrive/pytorch/1_image_classfication/data/hymenoptera_data/train/bees/1799726602_8580867f71.jpg',\n",
              " '/content/drive/MyDrive/pytorch/1_image_classfication/data/hymenoptera_data/train/bees/1807583459_4fe92b3133.jpg',\n",
              " '/content/drive/MyDrive/pytorch/1_image_classfication/data/hymenoptera_data/train/bees/196430254_46bd129ae7.jpg',\n",
              " '/content/drive/MyDrive/pytorch/1_image_classfication/data/hymenoptera_data/train/bees/196658222_3fffd79c67.jpg',\n",
              " '/content/drive/MyDrive/pytorch/1_image_classfication/data/hymenoptera_data/train/bees/198508668_97d818b6c4.jpg',\n",
              " '/content/drive/MyDrive/pytorch/1_image_classfication/data/hymenoptera_data/train/bees/2031225713_50ed499635.jpg',\n",
              " '/content/drive/MyDrive/pytorch/1_image_classfication/data/hymenoptera_data/train/bees/2037437624_2d7bce461f.jpg',\n",
              " '/content/drive/MyDrive/pytorch/1_image_classfication/data/hymenoptera_data/train/bees/2053200300_8911ef438a.jpg',\n",
              " '/content/drive/MyDrive/pytorch/1_image_classfication/data/hymenoptera_data/train/bees/205835650_e6f2614bee.jpg',\n",
              " '/content/drive/MyDrive/pytorch/1_image_classfication/data/hymenoptera_data/train/bees/208702903_42fb4d9748.jpg',\n",
              " '/content/drive/MyDrive/pytorch/1_image_classfication/data/hymenoptera_data/train/bees/21399619_3e61e5bb6f.jpg',\n",
              " '/content/drive/MyDrive/pytorch/1_image_classfication/data/hymenoptera_data/train/bees/2227611847_ec72d40403.jpg',\n",
              " '/content/drive/MyDrive/pytorch/1_image_classfication/data/hymenoptera_data/train/bees/2321139806_d73d899e66.jpg',\n",
              " '/content/drive/MyDrive/pytorch/1_image_classfication/data/hymenoptera_data/train/bees/2330918208_8074770c20.jpg',\n",
              " '/content/drive/MyDrive/pytorch/1_image_classfication/data/hymenoptera_data/train/bees/2345177635_caf07159b3.jpg',\n",
              " '/content/drive/MyDrive/pytorch/1_image_classfication/data/hymenoptera_data/train/bees/2358061370_9daabbd9ac.jpg',\n",
              " '/content/drive/MyDrive/pytorch/1_image_classfication/data/hymenoptera_data/train/bees/2364597044_3c3e3fc391.jpg',\n",
              " '/content/drive/MyDrive/pytorch/1_image_classfication/data/hymenoptera_data/train/bees/2384149906_2cd8b0b699.jpg',\n",
              " '/content/drive/MyDrive/pytorch/1_image_classfication/data/hymenoptera_data/train/bees/2397446847_04ef3cd3e1.jpg',\n",
              " '/content/drive/MyDrive/pytorch/1_image_classfication/data/hymenoptera_data/train/bees/2405441001_b06c36fa72.jpg',\n",
              " '/content/drive/MyDrive/pytorch/1_image_classfication/data/hymenoptera_data/train/bees/2445215254_51698ff797.jpg',\n",
              " '/content/drive/MyDrive/pytorch/1_image_classfication/data/hymenoptera_data/train/bees/2452236943_255bfd9e58.jpg',\n",
              " '/content/drive/MyDrive/pytorch/1_image_classfication/data/hymenoptera_data/train/bees/2467959963_a7831e9ff0.jpg',\n",
              " '/content/drive/MyDrive/pytorch/1_image_classfication/data/hymenoptera_data/train/bees/2470492904_837e97800d.jpg',\n",
              " '/content/drive/MyDrive/pytorch/1_image_classfication/data/hymenoptera_data/train/bees/2477324698_3d4b1b1cab.jpg',\n",
              " '/content/drive/MyDrive/pytorch/1_image_classfication/data/hymenoptera_data/train/bees/2477349551_e75c97cf4d.jpg',\n",
              " '/content/drive/MyDrive/pytorch/1_image_classfication/data/hymenoptera_data/train/bees/2486729079_62df0920be.jpg',\n",
              " '/content/drive/MyDrive/pytorch/1_image_classfication/data/hymenoptera_data/train/bees/2486746709_c43cec0e42.jpg',\n",
              " '/content/drive/MyDrive/pytorch/1_image_classfication/data/hymenoptera_data/train/bees/2493379287_4100e1dacc.jpg',\n",
              " '/content/drive/MyDrive/pytorch/1_image_classfication/data/hymenoptera_data/train/bees/2495722465_879acf9d85.jpg',\n",
              " '/content/drive/MyDrive/pytorch/1_image_classfication/data/hymenoptera_data/train/bees/2528444139_fa728b0f5b.jpg',\n",
              " '/content/drive/MyDrive/pytorch/1_image_classfication/data/hymenoptera_data/train/bees/2538361678_9da84b77e3.jpg',\n",
              " '/content/drive/MyDrive/pytorch/1_image_classfication/data/hymenoptera_data/train/bees/2551813042_8a070aeb2b.jpg',\n",
              " '/content/drive/MyDrive/pytorch/1_image_classfication/data/hymenoptera_data/train/bees/2580598377_a4caecdb54.jpg',\n",
              " '/content/drive/MyDrive/pytorch/1_image_classfication/data/hymenoptera_data/train/bees/2601176055_8464e6aa71.jpg',\n",
              " '/content/drive/MyDrive/pytorch/1_image_classfication/data/hymenoptera_data/train/bees/2610833167_79bf0bcae5.jpg',\n",
              " '/content/drive/MyDrive/pytorch/1_image_classfication/data/hymenoptera_data/train/bees/2610838525_fe8e3cae47.jpg',\n",
              " '/content/drive/MyDrive/pytorch/1_image_classfication/data/hymenoptera_data/train/bees/2617161745_fa3ebe85b4.jpg',\n",
              " '/content/drive/MyDrive/pytorch/1_image_classfication/data/hymenoptera_data/train/bees/2625499656_e3415e374d.jpg',\n",
              " '/content/drive/MyDrive/pytorch/1_image_classfication/data/hymenoptera_data/train/bees/2634617358_f32fd16bea.jpg',\n",
              " '/content/drive/MyDrive/pytorch/1_image_classfication/data/hymenoptera_data/train/bees/2638074627_6b3ae746a0.jpg',\n",
              " '/content/drive/MyDrive/pytorch/1_image_classfication/data/hymenoptera_data/train/bees/2645107662_b73a8595cc.jpg',\n",
              " '/content/drive/MyDrive/pytorch/1_image_classfication/data/hymenoptera_data/train/bees/2651621464_a2fa8722eb.jpg',\n",
              " '/content/drive/MyDrive/pytorch/1_image_classfication/data/hymenoptera_data/train/bees/2652877533_a564830cbf.jpg',\n",
              " '/content/drive/MyDrive/pytorch/1_image_classfication/data/hymenoptera_data/train/bees/266644509_d30bb16a1b.jpg',\n",
              " '/content/drive/MyDrive/pytorch/1_image_classfication/data/hymenoptera_data/train/bees/2683605182_9d2a0c66cf.jpg',\n",
              " '/content/drive/MyDrive/pytorch/1_image_classfication/data/hymenoptera_data/train/bees/2704348794_eb5d5178c2.jpg',\n",
              " '/content/drive/MyDrive/pytorch/1_image_classfication/data/hymenoptera_data/train/bees/2707440199_cd170bd512.jpg',\n",
              " '/content/drive/MyDrive/pytorch/1_image_classfication/data/hymenoptera_data/train/bees/2710368626_cb42882dc8.jpg',\n",
              " '/content/drive/MyDrive/pytorch/1_image_classfication/data/hymenoptera_data/train/bees/2722592222_258d473e17.jpg',\n",
              " '/content/drive/MyDrive/pytorch/1_image_classfication/data/hymenoptera_data/train/bees/2728759455_ce9bb8cd7a.jpg',\n",
              " '/content/drive/MyDrive/pytorch/1_image_classfication/data/hymenoptera_data/train/bees/2756397428_1d82a08807.jpg',\n",
              " '/content/drive/MyDrive/pytorch/1_image_classfication/data/hymenoptera_data/train/bees/2765347790_da6cf6cb40.jpg',\n",
              " '/content/drive/MyDrive/pytorch/1_image_classfication/data/hymenoptera_data/train/bees/2781170484_5d61835d63.jpg',\n",
              " '/content/drive/MyDrive/pytorch/1_image_classfication/data/hymenoptera_data/train/bees/279113587_b4843db199.jpg',\n",
              " '/content/drive/MyDrive/pytorch/1_image_classfication/data/hymenoptera_data/train/bees/2792000093_e8ae0718cf.jpg',\n",
              " '/content/drive/MyDrive/pytorch/1_image_classfication/data/hymenoptera_data/train/bees/2801728106_833798c909.jpg',\n",
              " '/content/drive/MyDrive/pytorch/1_image_classfication/data/hymenoptera_data/train/bees/2822388965_f6dca2a275.jpg',\n",
              " '/content/drive/MyDrive/pytorch/1_image_classfication/data/hymenoptera_data/train/bees/2861002136_52c7c6f708.jpg',\n",
              " '/content/drive/MyDrive/pytorch/1_image_classfication/data/hymenoptera_data/train/bees/2908916142_a7ac8b57a8.jpg',\n",
              " '/content/drive/MyDrive/pytorch/1_image_classfication/data/hymenoptera_data/train/bees/29494643_e3410f0d37.jpg',\n",
              " '/content/drive/MyDrive/pytorch/1_image_classfication/data/hymenoptera_data/train/bees/2959730355_416a18c63c.jpg',\n",
              " '/content/drive/MyDrive/pytorch/1_image_classfication/data/hymenoptera_data/train/bees/2962405283_22718d9617.jpg',\n",
              " '/content/drive/MyDrive/pytorch/1_image_classfication/data/hymenoptera_data/train/bees/3006264892_30e9cced70.jpg',\n",
              " '/content/drive/MyDrive/pytorch/1_image_classfication/data/hymenoptera_data/train/bees/3030189811_01d095b793.jpg',\n",
              " '/content/drive/MyDrive/pytorch/1_image_classfication/data/hymenoptera_data/train/bees/3030772428_8578335616.jpg',\n",
              " '/content/drive/MyDrive/pytorch/1_image_classfication/data/hymenoptera_data/train/bees/3044402684_3853071a87.jpg',\n",
              " '/content/drive/MyDrive/pytorch/1_image_classfication/data/hymenoptera_data/train/bees/3074585407_9854eb3153.jpg',\n",
              " '/content/drive/MyDrive/pytorch/1_image_classfication/data/hymenoptera_data/train/bees/3079610310_ac2d0ae7bc.jpg',\n",
              " '/content/drive/MyDrive/pytorch/1_image_classfication/data/hymenoptera_data/train/bees/3090975720_71f12e6de4.jpg',\n",
              " '/content/drive/MyDrive/pytorch/1_image_classfication/data/hymenoptera_data/train/bees/3100226504_c0d4f1e3f1.jpg',\n",
              " '/content/drive/MyDrive/pytorch/1_image_classfication/data/hymenoptera_data/train/bees/342758693_c56b89b6b6.jpg',\n",
              " '/content/drive/MyDrive/pytorch/1_image_classfication/data/hymenoptera_data/train/bees/354167719_22dca13752.jpg',\n",
              " '/content/drive/MyDrive/pytorch/1_image_classfication/data/hymenoptera_data/train/bees/359928878_b3b418c728.jpg',\n",
              " '/content/drive/MyDrive/pytorch/1_image_classfication/data/hymenoptera_data/train/bees/365759866_b15700c59b.jpg',\n",
              " '/content/drive/MyDrive/pytorch/1_image_classfication/data/hymenoptera_data/train/bees/36900412_92b81831ad.jpg',\n",
              " '/content/drive/MyDrive/pytorch/1_image_classfication/data/hymenoptera_data/train/bees/39672681_1302d204d1.jpg',\n",
              " '/content/drive/MyDrive/pytorch/1_image_classfication/data/hymenoptera_data/train/bees/39747887_42df2855ee.jpg',\n",
              " '/content/drive/MyDrive/pytorch/1_image_classfication/data/hymenoptera_data/train/bees/421515404_e87569fd8b.jpg',\n",
              " '/content/drive/MyDrive/pytorch/1_image_classfication/data/hymenoptera_data/train/bees/444532809_9e931e2279.jpg',\n",
              " '/content/drive/MyDrive/pytorch/1_image_classfication/data/hymenoptera_data/train/bees/446296270_d9e8b93ecf.jpg',\n",
              " '/content/drive/MyDrive/pytorch/1_image_classfication/data/hymenoptera_data/train/bees/452462677_7be43af8ff.jpg',\n",
              " '/content/drive/MyDrive/pytorch/1_image_classfication/data/hymenoptera_data/train/bees/452462695_40a4e5b559.jpg',\n",
              " '/content/drive/MyDrive/pytorch/1_image_classfication/data/hymenoptera_data/train/bees/457457145_5f86eb7e9c.jpg',\n",
              " '/content/drive/MyDrive/pytorch/1_image_classfication/data/hymenoptera_data/train/bees/465133211_80e0c27f60.jpg',\n",
              " '/content/drive/MyDrive/pytorch/1_image_classfication/data/hymenoptera_data/train/bees/469333327_358ba8fe8a.jpg',\n",
              " '/content/drive/MyDrive/pytorch/1_image_classfication/data/hymenoptera_data/train/bees/472288710_2abee16fa0.jpg',\n",
              " '/content/drive/MyDrive/pytorch/1_image_classfication/data/hymenoptera_data/train/bees/473618094_8ffdcab215.jpg',\n",
              " '/content/drive/MyDrive/pytorch/1_image_classfication/data/hymenoptera_data/train/bees/476347960_52edd72b06.jpg',\n",
              " '/content/drive/MyDrive/pytorch/1_image_classfication/data/hymenoptera_data/train/bees/478701318_bbd5e557b8.jpg',\n",
              " '/content/drive/MyDrive/pytorch/1_image_classfication/data/hymenoptera_data/train/bees/507288830_f46e8d4cb2.jpg',\n",
              " '/content/drive/MyDrive/pytorch/1_image_classfication/data/hymenoptera_data/train/bees/509247772_2db2d01374.jpg',\n",
              " '/content/drive/MyDrive/pytorch/1_image_classfication/data/hymenoptera_data/train/bees/513545352_fd3e7c7c5d.jpg',\n",
              " '/content/drive/MyDrive/pytorch/1_image_classfication/data/hymenoptera_data/train/bees/522104315_5d3cb2758e.jpg',\n",
              " '/content/drive/MyDrive/pytorch/1_image_classfication/data/hymenoptera_data/train/bees/537309131_532bfa59ea.jpg',\n",
              " '/content/drive/MyDrive/pytorch/1_image_classfication/data/hymenoptera_data/train/bees/586041248_3032e277a9.jpg',\n",
              " '/content/drive/MyDrive/pytorch/1_image_classfication/data/hymenoptera_data/train/bees/760526046_547e8b381f.jpg',\n",
              " '/content/drive/MyDrive/pytorch/1_image_classfication/data/hymenoptera_data/train/bees/760568592_45a52c847f.jpg',\n",
              " '/content/drive/MyDrive/pytorch/1_image_classfication/data/hymenoptera_data/train/bees/774440991_63a4aa0cbe.jpg',\n",
              " '/content/drive/MyDrive/pytorch/1_image_classfication/data/hymenoptera_data/train/bees/85112639_6e860b0469.jpg',\n",
              " '/content/drive/MyDrive/pytorch/1_image_classfication/data/hymenoptera_data/train/bees/873076652_eb098dab2d.jpg',\n",
              " '/content/drive/MyDrive/pytorch/1_image_classfication/data/hymenoptera_data/train/bees/90179376_abc234e5f4.jpg',\n",
              " '/content/drive/MyDrive/pytorch/1_image_classfication/data/hymenoptera_data/train/bees/92663402_37f379e57a.jpg',\n",
              " '/content/drive/MyDrive/pytorch/1_image_classfication/data/hymenoptera_data/train/bees/95238259_98470c5b10.jpg',\n",
              " '/content/drive/MyDrive/pytorch/1_image_classfication/data/hymenoptera_data/train/bees/969455125_58c797ef17.jpg',\n",
              " '/content/drive/MyDrive/pytorch/1_image_classfication/data/hymenoptera_data/train/bees/98391118_bdb1e80cce.jpg']"
            ]
          },
          "metadata": {},
          "execution_count": 7
        }
      ]
    },
    {
      "cell_type": "code",
      "source": [
        "# 개미와 벌의 사진에 대한 Dataset 작성\n",
        "\n",
        "class HymenopteraDataset(data.Dataset):\n",
        "    \"\"\"\n",
        "    개미와 벌 사진의 dataset 클래스. 파이토치의 dataset 클래스 상속\n",
        "\n",
        "    Attributes\n",
        "    -----------\n",
        "    file_list : 리스트\n",
        "        사진 경로를 저장한 리스트\n",
        "    transform : object\n",
        "        전처리 클래스의 인스턴스\n",
        "    phase : 'train' or 'test'\n",
        "        학습인지 훈련인지 설정\n",
        "    \"\"\"\n",
        "\n",
        "    def __init__(self, file_list, transform=None, phase='train'):\n",
        "        self.file_list = file_list # 파일 경로 리스트\n",
        "        self.transform = transform # 전처리 클래스의 인스턴스\n",
        "        self.phase = phase # 학습인지, 훈련인지\n",
        "\n",
        "    def __len__(self):\n",
        "        \"\"\"사진 개수를 반환\"\"\"\n",
        "        return len(self.file_list)\n",
        "\n",
        "    def __getitem__(self, index):\n",
        "        \"\"\"\n",
        "        전처리한 사진의 텐서 형식의 데이터와 라벨 취득\n",
        "        \"\"\"\n",
        "\n",
        "        # index번째의 화상 로드\n",
        "        img_path = self.file_list[index]\n",
        "        img = Image.open(img_path)  # 높이, 폭, 채널\n",
        "        \n",
        "        # img 전처리 실시\n",
        "        img_transformed = self.transform(\n",
        "            img, self.phase)  # 3,224,224\n",
        "        \n",
        "        # 사진 라벨을 파일 이름에서 추출\n",
        "        if self.phase == 'train':\n",
        "            label = img_path[81:85]\n",
        "        elif self.phase == 'val':\n",
        "            label = img_path[79:83]\n",
        "        \n",
        "        # 라벨을 숫자로 변경\n",
        "        if label == 'ants':\n",
        "            label = 0\n",
        "        elif label =='bees':\n",
        "            label = 1\n",
        "        \n",
        "        return img_transformed, label\n",
        "        \n"
      ],
      "metadata": {
        "id": "KEpG81eokT0H"
      },
      "execution_count": 8,
      "outputs": []
    },
    {
      "cell_type": "code",
      "source": [
        "train_dataset = HymenopteraDataset(\n",
        "    file_list = train_list, transform=ImageTransform(size,mean,std), phase='train')\n",
        "\n",
        "val_dataset = HymenopteraDataset(\n",
        "    file_list = val_list, transform=ImageTransform(size,mean,std), phase='val')\n",
        "\n",
        "# 동작확인\n",
        "index = 0\n",
        "print(train_dataset.__getitem__(index)[0].size())\n",
        "print(train_dataset.__getitem__(index)[1])"
      ],
      "metadata": {
        "colab": {
          "base_uri": "https://localhost:8080/"
        },
        "id": "iXCAo1OLmxsT",
        "outputId": "9dcdd256-53a3-4752-9321-746205449d19"
      },
      "execution_count": 9,
      "outputs": [
        {
          "output_type": "stream",
          "name": "stdout",
          "text": [
            "torch.Size([3, 224, 224])\n",
            "0\n"
          ]
        }
      ]
    },
    {
      "cell_type": "code",
      "source": [
        "index = 2\n",
        "print(train_dataset.__getitem__(index)[0].size())\n",
        "print(train_dataset.__getitem__(index)[1])"
      ],
      "metadata": {
        "colab": {
          "base_uri": "https://localhost:8080/"
        },
        "id": "pMcstH9enc5z",
        "outputId": "fd172dde-b497-4653-b37b-6581026abd43"
      },
      "execution_count": 10,
      "outputs": [
        {
          "output_type": "stream",
          "name": "stdout",
          "text": [
            "torch.Size([3, 224, 224])\n",
            "0\n"
          ]
        }
      ]
    },
    {
      "cell_type": "code",
      "source": [
        "# 미니 배치 크기\n",
        "batch_size = 32\n",
        "\n",
        "# 데이터 로더 작성\n",
        "train_dataloader = torch.utils.data.DataLoader(\n",
        "    train_dataset, batch_size=batch_size, shuffle=True)\n",
        "\n",
        "val_dataloader = torch.utils.data.DataLoader(\n",
        "    val_dataset, batch_size=batch_size, shuffle=True)\n",
        "\n",
        "# 사전형 변수에 정리\n",
        "dataloaders_dict = {\"train\": train_dataloader, \"val\" : val_dataloader}\n"
      ],
      "metadata": {
        "id": "M6NjPp7eo5Xu"
      },
      "execution_count": 11,
      "outputs": []
    },
    {
      "cell_type": "code",
      "source": [
        "# 동작 확인\n",
        "batch_iterator = iter(dataloaders_dict['train']) # 반복자로 변환\n",
        "inputs, labels = next(\n",
        "    batch_iterator) # 첫 번째 요소 추출\n",
        "print(inputs.size())\n",
        "print(labels)"
      ],
      "metadata": {
        "colab": {
          "base_uri": "https://localhost:8080/"
        },
        "id": "Fcr1Th9lp13c",
        "outputId": "246879d3-be7a-4535-c9b6-a13d82d0af17"
      },
      "execution_count": 12,
      "outputs": [
        {
          "output_type": "stream",
          "name": "stdout",
          "text": [
            "torch.Size([32, 3, 224, 224])\n",
            "tensor([0, 0, 1, 0, 0, 1, 1, 0, 1, 0, 1, 0, 0, 1, 1, 0, 1, 0, 0, 0, 1, 1, 1, 1,\n",
            "        1, 0, 1, 0, 1, 1, 1, 0])\n"
          ]
        }
      ]
    },
    {
      "cell_type": "code",
      "source": [
        "# 학습된 VGG=16 모델 로드\n",
        "# VGG-16 모델의 인스턴스 생성\n",
        "use_pretrained = True\n",
        "net = models.vgg16(pretrained=use_pretrained)\n",
        "\n",
        "# VGG16의 마지막 출력층의 출력 유닛을 개미와 벌인 두 개로 변경\n",
        "net.classifier[6] = nn.Linear(in_features=4096, out_features=2)\n",
        "\n",
        "# 훈련 모드로 설정\n",
        "net.train()\n",
        "\n",
        "print('네트워크 설정 완료 : 학습된 가중치를 읽어들여 훈련 모드로 설정했습니다.')"
      ],
      "metadata": {
        "colab": {
          "base_uri": "https://localhost:8080/"
        },
        "id": "IhYN9whjqGlW",
        "outputId": "e2dc02e3-eb70-4caf-959f-76a1d1f3e6ca"
      },
      "execution_count": 13,
      "outputs": [
        {
          "output_type": "stream",
          "name": "stdout",
          "text": [
            "네트워크 설정 완료 : 학습된 가중치를 읽어들여 훈련 모드로 설정했습니다.\n"
          ]
        }
      ]
    },
    {
      "cell_type": "code",
      "source": [
        "# 손실함수 정의\n",
        "criterion = nn.CrossEntropyLoss()"
      ],
      "metadata": {
        "id": "LaR7uFblq9bY"
      },
      "execution_count": 14,
      "outputs": []
    },
    {
      "cell_type": "code",
      "source": [
        "# 전이학습에서 학습시킬 파라미터를 params_to_update 변수에 저장\n",
        "params_to_update = []\n",
        "\n",
        "# 학습시킬 파라미터 명\n",
        "update_param_names=['classifier.6.weight','classifier.6.bias']\n",
        "\n",
        "# 학습시킬 파라미터 외에는 경사를 계산하지 않고 변하지 않도록 설정\n",
        "for name, param in net.named_parameters():\n",
        "    if name in update_param_names:\n",
        "        param.requires_grad = True\n",
        "        params_to_update.append(param)\n",
        "        print(name)\n",
        "    else:\n",
        "        param.requires_grad = False\n",
        "    \n",
        "\n",
        "# params_to_update의 내용 확인\n",
        "print('----------------')\n",
        "print(params_to_update)"
      ],
      "metadata": {
        "colab": {
          "base_uri": "https://localhost:8080/"
        },
        "id": "lAzqkEEVrDLB",
        "outputId": "8fcc0c5f-5723-471a-e430-f9fd920e1ce3"
      },
      "execution_count": 15,
      "outputs": [
        {
          "output_type": "stream",
          "name": "stdout",
          "text": [
            "classifier.6.weight\n",
            "classifier.6.bias\n",
            "----------------\n",
            "[Parameter containing:\n",
            "tensor([[-0.0022,  0.0006,  0.0057,  ..., -0.0037, -0.0080,  0.0038],\n",
            "        [-0.0048,  0.0035,  0.0092,  ...,  0.0138,  0.0123, -0.0151]],\n",
            "       requires_grad=True), Parameter containing:\n",
            "tensor([-0.0030, -0.0013], requires_grad=True)]\n"
          ]
        }
      ]
    },
    {
      "cell_type": "code",
      "source": [
        "# 최적화 기법 설정\n",
        "optimizer = optim.SGD(params=params_to_update, lr=0.001, momentum=0.9)"
      ],
      "metadata": {
        "id": "Cm4Y-bkcsANY"
      },
      "execution_count": 16,
      "outputs": []
    },
    {
      "cell_type": "code",
      "source": [
        "# 모델을 학습시키는 코드\n",
        "\n",
        "def train_model(net, dataloaders_dict, criterion, optimizer, num_epochs):\n",
        "\n",
        "    # 초기설정\n",
        "    # GPU 사용가능한지 확인\n",
        "    device = torch.device('cuda:0' if torch.cuda.is_available() else 'cpu')\n",
        "    print('사용장치:', device)\n",
        "\n",
        "    net.to(device)\n",
        "    \n",
        "    torch.backends.cudnn.benchmark=True\n",
        "    \n",
        "    #에폭 루프\n",
        "    for epoch in range(num_epochs):\n",
        "        print('Epoch {}/{}'.format(epoch+1, num_epochs))\n",
        "        print('--------------------')\n",
        "\n",
        "        # 에폭별 학습 및 검증 루프\n",
        "        for phase in ['train', 'val']:\n",
        "            if phase == 'train':\n",
        "                net.train()\n",
        "            else :\n",
        "                net.eval()\n",
        "\n",
        "            epoch_loss = 0.0   #에폭 손실 합\n",
        "            epoch_corrects = 0 #에폭 정답 수\n",
        "\n",
        "            # 학습하지 않을 시 검증 성능을 확인하기 위해 epoch=0의 훈련 생략\n",
        "            if (epoch == 0) and (phase == 'train'):\n",
        "                continue\n",
        "\n",
        "            # 데이터 로더로 미니 배치를 꺼내는 루프\n",
        "            for inputs, labels in tqdm(dataloaders_dict[phase]):\n",
        "\n",
        "                # GPU를 사용할 수 있다면 GPU에 데이터를 보낸다.\n",
        "                inputs = inputs.to(device)\n",
        "                labels = labels.to(device)\n",
        "                \n",
        "\n",
        "\n",
        "                # 옵티마이저 초기화\n",
        "                optimizer.zero_grad()\n",
        "                \n",
        "\n",
        "                # 순전파 계산\n",
        "                with torch.set_grad_enabled(phase=='train'):\n",
        "                    outputs = net(inputs)\n",
        "                    loss = criterion(outputs, labels)  # 손실 계산\n",
        "                    _, preds = torch.max(outputs, 1) # 라벨 예측\n",
        "\n",
        "                    # 훈련시에는 오차 역전파\n",
        "                    if phase == 'train':\n",
        "                        loss.backward()\n",
        "                        optimizer.step()\n",
        "\n",
        "                    #반복 결과 계산\n",
        "                    #손실 합계 개인\n",
        "                    epoch_loss += loss.item()*inputs.size(0)\n",
        "                    # 정답 수의 합계 갱신\n",
        "                    epoch_corrects += torch.sum(preds == labels.data)\n",
        "\n",
        "                    # 에폭당 손실과 정답률 표시\n",
        "                    epoch_loss = epoch_loss / len(dataloaders_dict[phase].dataset)\n",
        "                    epoch_acc = epoch_corrects.double(\n",
        "                    ) / len(dataloaders_dict[phase].dataset)\n",
        "\n",
        "                    print('{} Loss: {:.4f} Acc: {:.4f}'.format(\n",
        "                        phase,epoch_loss,epoch_acc))\n"
      ],
      "metadata": {
        "id": "kycWLS5JsTwk"
      },
      "execution_count": 17,
      "outputs": []
    },
    {
      "cell_type": "code",
      "source": [
        "# 학습 및 검증 실시\n",
        "num_epochs=10\n",
        "train_model(net,dataloaders_dict, criterion, optimizer, num_epochs=num_epochs)"
      ],
      "metadata": {
        "colab": {
          "base_uri": "https://localhost:8080/"
        },
        "id": "mYAbtVG4u9IA",
        "outputId": "91c4ab13-16f0-43b6-d69c-0c6b814f3e0a"
      },
      "execution_count": 19,
      "outputs": [
        {
          "output_type": "stream",
          "name": "stdout",
          "text": [
            "사용장치: cuda:0\n",
            "Epoch 1/10\n",
            "--------------------\n"
          ]
        },
        {
          "output_type": "stream",
          "name": "stderr",
          "text": [
            " 20%|██        | 1/5 [00:00<00:01,  2.41it/s]"
          ]
        },
        {
          "output_type": "stream",
          "name": "stdout",
          "text": [
            "val Loss: 0.0299 Acc: 0.2026\n"
          ]
        },
        {
          "output_type": "stream",
          "name": "stderr",
          "text": [
            "\r 40%|████      | 2/5 [00:01<00:01,  1.71it/s]"
          ]
        },
        {
          "output_type": "stream",
          "name": "stdout",
          "text": [
            "val Loss: 0.0528 Acc: 0.3922\n"
          ]
        },
        {
          "output_type": "stream",
          "name": "stderr",
          "text": [
            "\r 60%|██████    | 3/5 [00:01<00:01,  1.81it/s]"
          ]
        },
        {
          "output_type": "stream",
          "name": "stdout",
          "text": [
            "val Loss: 0.0170 Acc: 0.6013\n"
          ]
        },
        {
          "output_type": "stream",
          "name": "stderr",
          "text": [
            "\r 80%|████████  | 4/5 [00:02<00:00,  2.08it/s]"
          ]
        },
        {
          "output_type": "stream",
          "name": "stdout",
          "text": [
            "val Loss: 0.0426 Acc: 0.7974\n"
          ]
        },
        {
          "output_type": "stream",
          "name": "stderr",
          "text": [
            "100%|██████████| 5/5 [00:02<00:00,  2.18it/s]\n"
          ]
        },
        {
          "output_type": "stream",
          "name": "stdout",
          "text": [
            "val Loss: 0.0244 Acc: 0.9542\n",
            "Epoch 2/10\n",
            "--------------------\n"
          ]
        },
        {
          "output_type": "stream",
          "name": "stderr",
          "text": [
            " 12%|█▎        | 1/8 [00:00<00:02,  2.76it/s]"
          ]
        },
        {
          "output_type": "stream",
          "name": "stdout",
          "text": [
            "train Loss: 0.0323 Acc: 0.1193\n"
          ]
        },
        {
          "output_type": "stream",
          "name": "stderr",
          "text": [
            "\r 25%|██▌       | 2/8 [00:00<00:02,  2.88it/s]"
          ]
        },
        {
          "output_type": "stream",
          "name": "stdout",
          "text": [
            "train Loss: 0.0195 Acc: 0.2469\n"
          ]
        },
        {
          "output_type": "stream",
          "name": "stderr",
          "text": [
            "\r 38%|███▊      | 3/8 [00:01<00:01,  2.88it/s]"
          ]
        },
        {
          "output_type": "stream",
          "name": "stdout",
          "text": [
            "train Loss: 0.0158 Acc: 0.3745\n"
          ]
        },
        {
          "output_type": "stream",
          "name": "stderr",
          "text": [
            "\r 50%|█████     | 4/8 [00:01<00:01,  2.89it/s]"
          ]
        },
        {
          "output_type": "stream",
          "name": "stdout",
          "text": [
            "train Loss: 0.0150 Acc: 0.4979\n"
          ]
        },
        {
          "output_type": "stream",
          "name": "stderr",
          "text": [
            "\r 62%|██████▎   | 5/8 [00:01<00:01,  2.92it/s]"
          ]
        },
        {
          "output_type": "stream",
          "name": "stdout",
          "text": [
            "train Loss: 0.0064 Acc: 0.6296\n"
          ]
        },
        {
          "output_type": "stream",
          "name": "stderr",
          "text": [
            "\r 75%|███████▌  | 6/8 [00:02<00:00,  2.92it/s]"
          ]
        },
        {
          "output_type": "stream",
          "name": "stdout",
          "text": [
            "train Loss: 0.0213 Acc: 0.7531\n"
          ]
        },
        {
          "output_type": "stream",
          "name": "stderr",
          "text": [
            "\r 88%|████████▊ | 7/8 [00:02<00:00,  2.84it/s]"
          ]
        },
        {
          "output_type": "stream",
          "name": "stdout",
          "text": [
            "train Loss: 0.0271 Acc: 0.8724\n"
          ]
        },
        {
          "output_type": "stream",
          "name": "stderr",
          "text": [
            "100%|██████████| 8/8 [00:02<00:00,  3.02it/s]\n"
          ]
        },
        {
          "output_type": "stream",
          "name": "stdout",
          "text": [
            "train Loss: 0.0045 Acc: 0.9506\n"
          ]
        },
        {
          "output_type": "stream",
          "name": "stderr",
          "text": [
            " 20%|██        | 1/5 [00:00<00:01,  2.01it/s]"
          ]
        },
        {
          "output_type": "stream",
          "name": "stdout",
          "text": [
            "val Loss: 0.0516 Acc: 0.1830\n"
          ]
        },
        {
          "output_type": "stream",
          "name": "stderr",
          "text": [
            "\r 40%|████      | 2/5 [00:00<00:01,  2.39it/s]"
          ]
        },
        {
          "output_type": "stream",
          "name": "stdout",
          "text": [
            "val Loss: 0.0265 Acc: 0.3856\n"
          ]
        },
        {
          "output_type": "stream",
          "name": "stderr",
          "text": [
            "\r 60%|██████    | 3/5 [00:01<00:00,  2.60it/s]"
          ]
        },
        {
          "output_type": "stream",
          "name": "stdout",
          "text": [
            "val Loss: 0.0274 Acc: 0.5817\n"
          ]
        },
        {
          "output_type": "stream",
          "name": "stderr",
          "text": [
            "\r 80%|████████  | 4/5 [00:01<00:00,  2.66it/s]"
          ]
        },
        {
          "output_type": "stream",
          "name": "stdout",
          "text": [
            "val Loss: 0.0048 Acc: 0.7908\n"
          ]
        },
        {
          "output_type": "stream",
          "name": "stderr",
          "text": [
            "100%|██████████| 5/5 [00:01<00:00,  2.70it/s]\n"
          ]
        },
        {
          "output_type": "stream",
          "name": "stdout",
          "text": [
            "val Loss: 0.0077 Acc: 0.9542\n",
            "Epoch 3/10\n",
            "--------------------\n"
          ]
        },
        {
          "output_type": "stream",
          "name": "stderr",
          "text": [
            " 12%|█▎        | 1/8 [00:00<00:02,  2.76it/s]"
          ]
        },
        {
          "output_type": "stream",
          "name": "stdout",
          "text": [
            "train Loss: 0.0173 Acc: 0.1276\n"
          ]
        },
        {
          "output_type": "stream",
          "name": "stderr",
          "text": [
            "\r 25%|██▌       | 2/8 [00:00<00:02,  2.64it/s]"
          ]
        },
        {
          "output_type": "stream",
          "name": "stdout",
          "text": [
            "train Loss: 0.0190 Acc: 0.2551\n"
          ]
        },
        {
          "output_type": "stream",
          "name": "stderr",
          "text": [
            "\r 38%|███▊      | 3/8 [00:01<00:01,  2.79it/s]"
          ]
        },
        {
          "output_type": "stream",
          "name": "stdout",
          "text": [
            "train Loss: 0.0086 Acc: 0.3827\n"
          ]
        },
        {
          "output_type": "stream",
          "name": "stderr",
          "text": [
            "\r 50%|█████     | 4/8 [00:01<00:01,  2.83it/s]"
          ]
        },
        {
          "output_type": "stream",
          "name": "stdout",
          "text": [
            "train Loss: 0.0052 Acc: 0.5144\n"
          ]
        },
        {
          "output_type": "stream",
          "name": "stderr",
          "text": [
            "\r 62%|██████▎   | 5/8 [00:01<00:01,  2.85it/s]"
          ]
        },
        {
          "output_type": "stream",
          "name": "stdout",
          "text": [
            "train Loss: 0.0110 Acc: 0.6379\n"
          ]
        },
        {
          "output_type": "stream",
          "name": "stderr",
          "text": [
            "\r 75%|███████▌  | 6/8 [00:02<00:00,  2.88it/s]"
          ]
        },
        {
          "output_type": "stream",
          "name": "stdout",
          "text": [
            "train Loss: 0.0130 Acc: 0.7613\n"
          ]
        },
        {
          "output_type": "stream",
          "name": "stderr",
          "text": [
            "\r 88%|████████▊ | 7/8 [00:02<00:00,  2.92it/s]"
          ]
        },
        {
          "output_type": "stream",
          "name": "stdout",
          "text": [
            "train Loss: 0.0228 Acc: 0.8807\n"
          ]
        },
        {
          "output_type": "stream",
          "name": "stderr",
          "text": [
            "100%|██████████| 8/8 [00:02<00:00,  3.01it/s]\n"
          ]
        },
        {
          "output_type": "stream",
          "name": "stdout",
          "text": [
            "train Loss: 0.0012 Acc: 0.9588\n"
          ]
        },
        {
          "output_type": "stream",
          "name": "stderr",
          "text": [
            " 20%|██        | 1/5 [00:00<00:01,  2.53it/s]"
          ]
        },
        {
          "output_type": "stream",
          "name": "stdout",
          "text": [
            "val Loss: 0.0212 Acc: 0.1961\n"
          ]
        },
        {
          "output_type": "stream",
          "name": "stderr",
          "text": [
            "\r 40%|████      | 2/5 [00:00<00:01,  2.69it/s]"
          ]
        },
        {
          "output_type": "stream",
          "name": "stdout",
          "text": [
            "val Loss: 0.0266 Acc: 0.3922\n"
          ]
        },
        {
          "output_type": "stream",
          "name": "stderr",
          "text": [
            "\r 60%|██████    | 3/5 [00:01<00:00,  2.82it/s]"
          ]
        },
        {
          "output_type": "stream",
          "name": "stdout",
          "text": [
            "val Loss: 0.0038 Acc: 0.6013\n"
          ]
        },
        {
          "output_type": "stream",
          "name": "stderr",
          "text": [
            "\r 80%|████████  | 4/5 [00:01<00:00,  2.80it/s]"
          ]
        },
        {
          "output_type": "stream",
          "name": "stdout",
          "text": [
            "val Loss: 0.0203 Acc: 0.8039\n"
          ]
        },
        {
          "output_type": "stream",
          "name": "stderr",
          "text": [
            "100%|██████████| 5/5 [00:01<00:00,  2.72it/s]\n"
          ]
        },
        {
          "output_type": "stream",
          "name": "stdout",
          "text": [
            "val Loss: 0.0398 Acc: 0.9477\n",
            "Epoch 4/10\n",
            "--------------------\n"
          ]
        },
        {
          "output_type": "stream",
          "name": "stderr",
          "text": [
            " 12%|█▎        | 1/8 [00:00<00:02,  2.70it/s]"
          ]
        },
        {
          "output_type": "stream",
          "name": "stdout",
          "text": [
            "train Loss: 0.0077 Acc: 0.1276\n"
          ]
        },
        {
          "output_type": "stream",
          "name": "stderr",
          "text": [
            "\r 25%|██▌       | 2/8 [00:00<00:02,  2.80it/s]"
          ]
        },
        {
          "output_type": "stream",
          "name": "stdout",
          "text": [
            "train Loss: 0.0141 Acc: 0.2469\n"
          ]
        },
        {
          "output_type": "stream",
          "name": "stderr",
          "text": [
            "\r 38%|███▊      | 3/8 [00:01<00:01,  2.88it/s]"
          ]
        },
        {
          "output_type": "stream",
          "name": "stdout",
          "text": [
            "train Loss: 0.0092 Acc: 0.3745\n"
          ]
        },
        {
          "output_type": "stream",
          "name": "stderr",
          "text": [
            "\r 50%|█████     | 4/8 [00:01<00:01,  2.94it/s]"
          ]
        },
        {
          "output_type": "stream",
          "name": "stdout",
          "text": [
            "train Loss: 0.0108 Acc: 0.5021\n"
          ]
        },
        {
          "output_type": "stream",
          "name": "stderr",
          "text": [
            "\r 62%|██████▎   | 5/8 [00:01<00:01,  2.90it/s]"
          ]
        },
        {
          "output_type": "stream",
          "name": "stdout",
          "text": [
            "train Loss: 0.0037 Acc: 0.6337\n"
          ]
        },
        {
          "output_type": "stream",
          "name": "stderr",
          "text": [
            "\r 75%|███████▌  | 6/8 [00:02<00:00,  2.94it/s]"
          ]
        },
        {
          "output_type": "stream",
          "name": "stdout",
          "text": [
            "train Loss: 0.0060 Acc: 0.7654\n"
          ]
        },
        {
          "output_type": "stream",
          "name": "stderr",
          "text": [
            "\r 88%|████████▊ | 7/8 [00:02<00:00,  2.84it/s]"
          ]
        },
        {
          "output_type": "stream",
          "name": "stdout",
          "text": [
            "train Loss: 0.0083 Acc: 0.8930\n"
          ]
        },
        {
          "output_type": "stream",
          "name": "stderr",
          "text": [
            "100%|██████████| 8/8 [00:02<00:00,  3.02it/s]\n"
          ]
        },
        {
          "output_type": "stream",
          "name": "stdout",
          "text": [
            "train Loss: 0.0028 Acc: 0.9712\n"
          ]
        },
        {
          "output_type": "stream",
          "name": "stderr",
          "text": [
            " 20%|██        | 1/5 [00:00<00:01,  2.80it/s]"
          ]
        },
        {
          "output_type": "stream",
          "name": "stdout",
          "text": [
            "val Loss: 0.0175 Acc: 0.2026\n"
          ]
        },
        {
          "output_type": "stream",
          "name": "stderr",
          "text": [
            "\r 40%|████      | 2/5 [00:00<00:01,  2.84it/s]"
          ]
        },
        {
          "output_type": "stream",
          "name": "stdout",
          "text": [
            "val Loss: 0.0220 Acc: 0.3987\n"
          ]
        },
        {
          "output_type": "stream",
          "name": "stderr",
          "text": [
            "\r 60%|██████    | 3/5 [00:01<00:00,  2.53it/s]"
          ]
        },
        {
          "output_type": "stream",
          "name": "stdout",
          "text": [
            "val Loss: 0.0348 Acc: 0.5882\n"
          ]
        },
        {
          "output_type": "stream",
          "name": "stderr",
          "text": [
            "\r 80%|████████  | 4/5 [00:01<00:00,  2.66it/s]"
          ]
        },
        {
          "output_type": "stream",
          "name": "stdout",
          "text": [
            "val Loss: 0.0025 Acc: 0.7974\n"
          ]
        },
        {
          "output_type": "stream",
          "name": "stderr",
          "text": [
            "100%|██████████| 5/5 [00:01<00:00,  2.81it/s]\n"
          ]
        },
        {
          "output_type": "stream",
          "name": "stdout",
          "text": [
            "val Loss: 0.0267 Acc: 0.9477\n",
            "Epoch 5/10\n",
            "--------------------\n"
          ]
        },
        {
          "output_type": "stream",
          "name": "stderr",
          "text": [
            " 12%|█▎        | 1/8 [00:00<00:02,  2.78it/s]"
          ]
        },
        {
          "output_type": "stream",
          "name": "stdout",
          "text": [
            "train Loss: 0.0089 Acc: 0.1276\n"
          ]
        },
        {
          "output_type": "stream",
          "name": "stderr",
          "text": [
            "\r 25%|██▌       | 2/8 [00:00<00:02,  2.72it/s]"
          ]
        },
        {
          "output_type": "stream",
          "name": "stdout",
          "text": [
            "train Loss: 0.0112 Acc: 0.2551\n"
          ]
        },
        {
          "output_type": "stream",
          "name": "stderr",
          "text": [
            "\r 38%|███▊      | 3/8 [00:01<00:01,  2.90it/s]"
          ]
        },
        {
          "output_type": "stream",
          "name": "stdout",
          "text": [
            "train Loss: 0.0161 Acc: 0.3827\n"
          ]
        },
        {
          "output_type": "stream",
          "name": "stderr",
          "text": [
            "\r 50%|█████     | 4/8 [00:01<00:01,  2.92it/s]"
          ]
        },
        {
          "output_type": "stream",
          "name": "stdout",
          "text": [
            "train Loss: 0.0130 Acc: 0.5103\n"
          ]
        },
        {
          "output_type": "stream",
          "name": "stderr",
          "text": [
            "\r 62%|██████▎   | 5/8 [00:01<00:00,  3.00it/s]"
          ]
        },
        {
          "output_type": "stream",
          "name": "stdout",
          "text": [
            "train Loss: 0.0138 Acc: 0.6379\n"
          ]
        },
        {
          "output_type": "stream",
          "name": "stderr",
          "text": [
            "\r 75%|███████▌  | 6/8 [00:02<00:00,  3.00it/s]"
          ]
        },
        {
          "output_type": "stream",
          "name": "stdout",
          "text": [
            "train Loss: 0.0067 Acc: 0.7654\n"
          ]
        },
        {
          "output_type": "stream",
          "name": "stderr",
          "text": [
            "\r 88%|████████▊ | 7/8 [00:02<00:00,  3.00it/s]"
          ]
        },
        {
          "output_type": "stream",
          "name": "stdout",
          "text": [
            "train Loss: 0.0073 Acc: 0.8930\n"
          ]
        },
        {
          "output_type": "stream",
          "name": "stderr",
          "text": [
            "100%|██████████| 8/8 [00:02<00:00,  3.10it/s]\n"
          ]
        },
        {
          "output_type": "stream",
          "name": "stdout",
          "text": [
            "train Loss: 0.0032 Acc: 0.9712\n"
          ]
        },
        {
          "output_type": "stream",
          "name": "stderr",
          "text": [
            " 20%|██        | 1/5 [00:00<00:01,  2.84it/s]"
          ]
        },
        {
          "output_type": "stream",
          "name": "stdout",
          "text": [
            "val Loss: 0.0285 Acc: 0.1895\n"
          ]
        },
        {
          "output_type": "stream",
          "name": "stderr",
          "text": [
            "\r 40%|████      | 2/5 [00:00<00:01,  2.47it/s]"
          ]
        },
        {
          "output_type": "stream",
          "name": "stdout",
          "text": [
            "val Loss: 0.0239 Acc: 0.3791\n"
          ]
        },
        {
          "output_type": "stream",
          "name": "stderr",
          "text": [
            "\r 60%|██████    | 3/5 [00:01<00:00,  2.56it/s]"
          ]
        },
        {
          "output_type": "stream",
          "name": "stdout",
          "text": [
            "val Loss: 0.0037 Acc: 0.5882\n"
          ]
        },
        {
          "output_type": "stream",
          "name": "stderr",
          "text": [
            "\r 80%|████████  | 4/5 [00:01<00:00,  2.60it/s]"
          ]
        },
        {
          "output_type": "stream",
          "name": "stdout",
          "text": [
            "val Loss: 0.0091 Acc: 0.7974\n"
          ]
        },
        {
          "output_type": "stream",
          "name": "stderr",
          "text": [
            "100%|██████████| 5/5 [00:01<00:00,  2.70it/s]\n"
          ]
        },
        {
          "output_type": "stream",
          "name": "stdout",
          "text": [
            "val Loss: 0.0343 Acc: 0.9477\n",
            "Epoch 6/10\n",
            "--------------------\n"
          ]
        },
        {
          "output_type": "stream",
          "name": "stderr",
          "text": [
            " 12%|█▎        | 1/8 [00:00<00:02,  2.79it/s]"
          ]
        },
        {
          "output_type": "stream",
          "name": "stdout",
          "text": [
            "train Loss: 0.0029 Acc: 0.1317\n"
          ]
        },
        {
          "output_type": "stream",
          "name": "stderr",
          "text": [
            "\r 25%|██▌       | 2/8 [00:00<00:02,  2.91it/s]"
          ]
        },
        {
          "output_type": "stream",
          "name": "stdout",
          "text": [
            "train Loss: 0.0026 Acc: 0.2634\n"
          ]
        },
        {
          "output_type": "stream",
          "name": "stderr",
          "text": [
            "\r 38%|███▊      | 3/8 [00:01<00:01,  2.95it/s]"
          ]
        },
        {
          "output_type": "stream",
          "name": "stdout",
          "text": [
            "train Loss: 0.0085 Acc: 0.3909\n"
          ]
        },
        {
          "output_type": "stream",
          "name": "stderr",
          "text": [
            "\r 50%|█████     | 4/8 [00:01<00:01,  2.96it/s]"
          ]
        },
        {
          "output_type": "stream",
          "name": "stdout",
          "text": [
            "train Loss: 0.0077 Acc: 0.5185\n"
          ]
        },
        {
          "output_type": "stream",
          "name": "stderr",
          "text": [
            "\r 62%|██████▎   | 5/8 [00:01<00:01,  2.84it/s]"
          ]
        },
        {
          "output_type": "stream",
          "name": "stdout",
          "text": [
            "train Loss: 0.0092 Acc: 0.6502\n"
          ]
        },
        {
          "output_type": "stream",
          "name": "stderr",
          "text": [
            "\r 75%|███████▌  | 6/8 [00:02<00:00,  2.89it/s]"
          ]
        },
        {
          "output_type": "stream",
          "name": "stdout",
          "text": [
            "train Loss: 0.0178 Acc: 0.7737\n"
          ]
        },
        {
          "output_type": "stream",
          "name": "stderr",
          "text": [
            "\r 88%|████████▊ | 7/8 [00:02<00:00,  3.00it/s]"
          ]
        },
        {
          "output_type": "stream",
          "name": "stdout",
          "text": [
            "train Loss: 0.0185 Acc: 0.8971\n"
          ]
        },
        {
          "output_type": "stream",
          "name": "stderr",
          "text": [
            "100%|██████████| 8/8 [00:02<00:00,  3.08it/s]\n"
          ]
        },
        {
          "output_type": "stream",
          "name": "stdout",
          "text": [
            "train Loss: 0.0031 Acc: 0.9753\n"
          ]
        },
        {
          "output_type": "stream",
          "name": "stderr",
          "text": [
            " 20%|██        | 1/5 [00:00<00:01,  2.65it/s]"
          ]
        },
        {
          "output_type": "stream",
          "name": "stdout",
          "text": [
            "val Loss: 0.0106 Acc: 0.2026\n"
          ]
        },
        {
          "output_type": "stream",
          "name": "stderr",
          "text": [
            "\r 40%|████      | 2/5 [00:00<00:01,  2.76it/s]"
          ]
        },
        {
          "output_type": "stream",
          "name": "stdout",
          "text": [
            "val Loss: 0.0177 Acc: 0.4052\n"
          ]
        },
        {
          "output_type": "stream",
          "name": "stderr",
          "text": [
            "\r 60%|██████    | 3/5 [00:01<00:00,  2.50it/s]"
          ]
        },
        {
          "output_type": "stream",
          "name": "stdout",
          "text": [
            "val Loss: 0.0117 Acc: 0.6078\n"
          ]
        },
        {
          "output_type": "stream",
          "name": "stderr",
          "text": [
            "\r 80%|████████  | 4/5 [00:01<00:00,  2.60it/s]"
          ]
        },
        {
          "output_type": "stream",
          "name": "stdout",
          "text": [
            "val Loss: 0.0411 Acc: 0.7908\n"
          ]
        },
        {
          "output_type": "stream",
          "name": "stderr",
          "text": [
            "100%|██████████| 5/5 [00:01<00:00,  2.77it/s]\n"
          ]
        },
        {
          "output_type": "stream",
          "name": "stdout",
          "text": [
            "val Loss: 0.0126 Acc: 0.9477\n",
            "Epoch 7/10\n",
            "--------------------\n"
          ]
        },
        {
          "output_type": "stream",
          "name": "stderr",
          "text": [
            " 12%|█▎        | 1/8 [00:00<00:02,  2.88it/s]"
          ]
        },
        {
          "output_type": "stream",
          "name": "stdout",
          "text": [
            "train Loss: 0.0011 Acc: 0.1317\n"
          ]
        },
        {
          "output_type": "stream",
          "name": "stderr",
          "text": [
            "\r 25%|██▌       | 2/8 [00:00<00:02,  2.95it/s]"
          ]
        },
        {
          "output_type": "stream",
          "name": "stdout",
          "text": [
            "train Loss: 0.0038 Acc: 0.2634\n"
          ]
        },
        {
          "output_type": "stream",
          "name": "stderr",
          "text": [
            "\r 38%|███▊      | 3/8 [00:01<00:01,  3.01it/s]"
          ]
        },
        {
          "output_type": "stream",
          "name": "stdout",
          "text": [
            "train Loss: 0.0190 Acc: 0.3827\n"
          ]
        },
        {
          "output_type": "stream",
          "name": "stderr",
          "text": [
            "\r 50%|█████     | 4/8 [00:01<00:01,  2.98it/s]"
          ]
        },
        {
          "output_type": "stream",
          "name": "stdout",
          "text": [
            "train Loss: 0.0177 Acc: 0.4979\n"
          ]
        },
        {
          "output_type": "stream",
          "name": "stderr",
          "text": [
            "\r 62%|██████▎   | 5/8 [00:01<00:01,  2.98it/s]"
          ]
        },
        {
          "output_type": "stream",
          "name": "stdout",
          "text": [
            "train Loss: 0.0035 Acc: 0.6296\n"
          ]
        },
        {
          "output_type": "stream",
          "name": "stderr",
          "text": [
            "\r 75%|███████▌  | 6/8 [00:02<00:00,  3.02it/s]"
          ]
        },
        {
          "output_type": "stream",
          "name": "stdout",
          "text": [
            "train Loss: 0.0208 Acc: 0.7531\n"
          ]
        },
        {
          "output_type": "stream",
          "name": "stderr",
          "text": [
            "\r 88%|████████▊ | 7/8 [00:02<00:00,  2.89it/s]"
          ]
        },
        {
          "output_type": "stream",
          "name": "stdout",
          "text": [
            "train Loss: 0.0057 Acc: 0.8848\n"
          ]
        },
        {
          "output_type": "stream",
          "name": "stderr",
          "text": [
            "100%|██████████| 8/8 [00:02<00:00,  3.08it/s]\n"
          ]
        },
        {
          "output_type": "stream",
          "name": "stdout",
          "text": [
            "train Loss: 0.0022 Acc: 0.9630\n"
          ]
        },
        {
          "output_type": "stream",
          "name": "stderr",
          "text": [
            " 20%|██        | 1/5 [00:00<00:01,  2.68it/s]"
          ]
        },
        {
          "output_type": "stream",
          "name": "stdout",
          "text": [
            "val Loss: 0.0301 Acc: 0.1895\n"
          ]
        },
        {
          "output_type": "stream",
          "name": "stderr",
          "text": [
            "\r 40%|████      | 2/5 [00:00<00:01,  2.78it/s]"
          ]
        },
        {
          "output_type": "stream",
          "name": "stdout",
          "text": [
            "val Loss: 0.0178 Acc: 0.3856\n"
          ]
        },
        {
          "output_type": "stream",
          "name": "stderr",
          "text": [
            "\r 60%|██████    | 3/5 [00:01<00:00,  2.80it/s]"
          ]
        },
        {
          "output_type": "stream",
          "name": "stdout",
          "text": [
            "val Loss: 0.0265 Acc: 0.5817\n"
          ]
        },
        {
          "output_type": "stream",
          "name": "stderr",
          "text": [
            "\r 80%|████████  | 4/5 [00:01<00:00,  2.54it/s]"
          ]
        },
        {
          "output_type": "stream",
          "name": "stdout",
          "text": [
            "val Loss: 0.0074 Acc: 0.7908\n"
          ]
        },
        {
          "output_type": "stream",
          "name": "stderr",
          "text": [
            "100%|██████████| 5/5 [00:01<00:00,  2.77it/s]\n"
          ]
        },
        {
          "output_type": "stream",
          "name": "stdout",
          "text": [
            "val Loss: 0.0103 Acc: 0.9477\n",
            "Epoch 8/10\n",
            "--------------------\n"
          ]
        },
        {
          "output_type": "stream",
          "name": "stderr",
          "text": [
            " 12%|█▎        | 1/8 [00:00<00:02,  2.85it/s]"
          ]
        },
        {
          "output_type": "stream",
          "name": "stdout",
          "text": [
            "train Loss: 0.0029 Acc: 0.1317\n"
          ]
        },
        {
          "output_type": "stream",
          "name": "stderr",
          "text": [
            "\r 25%|██▌       | 2/8 [00:00<00:02,  2.68it/s]"
          ]
        },
        {
          "output_type": "stream",
          "name": "stdout",
          "text": [
            "train Loss: 0.0130 Acc: 0.2551\n"
          ]
        },
        {
          "output_type": "stream",
          "name": "stderr",
          "text": [
            "\r 38%|███▊      | 3/8 [00:01<00:01,  2.81it/s]"
          ]
        },
        {
          "output_type": "stream",
          "name": "stdout",
          "text": [
            "train Loss: 0.0023 Acc: 0.3868\n"
          ]
        },
        {
          "output_type": "stream",
          "name": "stderr",
          "text": [
            "\r 50%|█████     | 4/8 [00:01<00:01,  2.82it/s]"
          ]
        },
        {
          "output_type": "stream",
          "name": "stdout",
          "text": [
            "train Loss: 0.0084 Acc: 0.5185\n"
          ]
        },
        {
          "output_type": "stream",
          "name": "stderr",
          "text": [
            "\r 62%|██████▎   | 5/8 [00:01<00:01,  2.81it/s]"
          ]
        },
        {
          "output_type": "stream",
          "name": "stdout",
          "text": [
            "train Loss: 0.0055 Acc: 0.6502\n"
          ]
        },
        {
          "output_type": "stream",
          "name": "stderr",
          "text": [
            "\r 75%|███████▌  | 6/8 [00:02<00:00,  2.89it/s]"
          ]
        },
        {
          "output_type": "stream",
          "name": "stdout",
          "text": [
            "train Loss: 0.0130 Acc: 0.7778\n"
          ]
        },
        {
          "output_type": "stream",
          "name": "stderr",
          "text": [
            "\r 88%|████████▊ | 7/8 [00:02<00:00,  2.94it/s]"
          ]
        },
        {
          "output_type": "stream",
          "name": "stdout",
          "text": [
            "train Loss: 0.0043 Acc: 0.9053\n"
          ]
        },
        {
          "output_type": "stream",
          "name": "stderr",
          "text": [
            "100%|██████████| 8/8 [00:02<00:00,  3.02it/s]\n"
          ]
        },
        {
          "output_type": "stream",
          "name": "stdout",
          "text": [
            "train Loss: 0.0018 Acc: 0.9835\n"
          ]
        },
        {
          "output_type": "stream",
          "name": "stderr",
          "text": [
            " 20%|██        | 1/5 [00:00<00:01,  2.73it/s]"
          ]
        },
        {
          "output_type": "stream",
          "name": "stdout",
          "text": [
            "val Loss: 0.0124 Acc: 0.2026\n"
          ]
        },
        {
          "output_type": "stream",
          "name": "stderr",
          "text": [
            "\r 40%|████      | 2/5 [00:00<00:01,  2.81it/s]"
          ]
        },
        {
          "output_type": "stream",
          "name": "stdout",
          "text": [
            "val Loss: 0.0120 Acc: 0.4052\n"
          ]
        },
        {
          "output_type": "stream",
          "name": "stderr",
          "text": [
            "\r 60%|██████    | 3/5 [00:01<00:00,  2.50it/s]"
          ]
        },
        {
          "output_type": "stream",
          "name": "stdout",
          "text": [
            "val Loss: 0.0168 Acc: 0.6078\n"
          ]
        },
        {
          "output_type": "stream",
          "name": "stderr",
          "text": [
            "\r 80%|████████  | 4/5 [00:01<00:00,  2.60it/s]"
          ]
        },
        {
          "output_type": "stream",
          "name": "stdout",
          "text": [
            "val Loss: 0.0220 Acc: 0.8039\n"
          ]
        },
        {
          "output_type": "stream",
          "name": "stderr",
          "text": [
            "100%|██████████| 5/5 [00:01<00:00,  2.74it/s]\n"
          ]
        },
        {
          "output_type": "stream",
          "name": "stdout",
          "text": [
            "val Loss: 0.0265 Acc: 0.9477\n",
            "Epoch 9/10\n",
            "--------------------\n"
          ]
        },
        {
          "output_type": "stream",
          "name": "stderr",
          "text": [
            " 12%|█▎        | 1/8 [00:00<00:02,  2.56it/s]"
          ]
        },
        {
          "output_type": "stream",
          "name": "stdout",
          "text": [
            "train Loss: 0.0074 Acc: 0.1317\n"
          ]
        },
        {
          "output_type": "stream",
          "name": "stderr",
          "text": [
            "\r 25%|██▌       | 2/8 [00:00<00:02,  2.85it/s]"
          ]
        },
        {
          "output_type": "stream",
          "name": "stdout",
          "text": [
            "train Loss: 0.0116 Acc: 0.2593\n"
          ]
        },
        {
          "output_type": "stream",
          "name": "stderr",
          "text": [
            "\r 38%|███▊      | 3/8 [00:01<00:01,  2.92it/s]"
          ]
        },
        {
          "output_type": "stream",
          "name": "stdout",
          "text": [
            "train Loss: 0.0075 Acc: 0.3868\n"
          ]
        },
        {
          "output_type": "stream",
          "name": "stderr",
          "text": [
            "\r 50%|█████     | 4/8 [00:01<00:01,  2.92it/s]"
          ]
        },
        {
          "output_type": "stream",
          "name": "stdout",
          "text": [
            "train Loss: 0.0043 Acc: 0.5185\n"
          ]
        },
        {
          "output_type": "stream",
          "name": "stderr",
          "text": [
            "\r 62%|██████▎   | 5/8 [00:01<00:01,  2.90it/s]"
          ]
        },
        {
          "output_type": "stream",
          "name": "stdout",
          "text": [
            "train Loss: 0.0026 Acc: 0.6502\n"
          ]
        },
        {
          "output_type": "stream",
          "name": "stderr",
          "text": [
            "\r 75%|███████▌  | 6/8 [00:02<00:00,  2.93it/s]"
          ]
        },
        {
          "output_type": "stream",
          "name": "stdout",
          "text": [
            "train Loss: 0.0040 Acc: 0.7819\n"
          ]
        },
        {
          "output_type": "stream",
          "name": "stderr",
          "text": [
            "\r 88%|████████▊ | 7/8 [00:02<00:00,  2.99it/s]"
          ]
        },
        {
          "output_type": "stream",
          "name": "stdout",
          "text": [
            "train Loss: 0.0072 Acc: 0.9095\n"
          ]
        },
        {
          "output_type": "stream",
          "name": "stderr",
          "text": [
            "100%|██████████| 8/8 [00:02<00:00,  3.07it/s]\n"
          ]
        },
        {
          "output_type": "stream",
          "name": "stdout",
          "text": [
            "train Loss: 0.0159 Acc: 0.9794\n"
          ]
        },
        {
          "output_type": "stream",
          "name": "stderr",
          "text": [
            " 20%|██        | 1/5 [00:00<00:01,  2.08it/s]"
          ]
        },
        {
          "output_type": "stream",
          "name": "stdout",
          "text": [
            "val Loss: 0.0299 Acc: 0.1895\n"
          ]
        },
        {
          "output_type": "stream",
          "name": "stderr",
          "text": [
            "\r 40%|████      | 2/5 [00:00<00:01,  2.43it/s]"
          ]
        },
        {
          "output_type": "stream",
          "name": "stdout",
          "text": [
            "val Loss: 0.0195 Acc: 0.3922\n"
          ]
        },
        {
          "output_type": "stream",
          "name": "stderr",
          "text": [
            "\r 60%|██████    | 3/5 [00:01<00:00,  2.57it/s]"
          ]
        },
        {
          "output_type": "stream",
          "name": "stdout",
          "text": [
            "val Loss: 0.0090 Acc: 0.5948\n"
          ]
        },
        {
          "output_type": "stream",
          "name": "stderr",
          "text": [
            "\r 80%|████████  | 4/5 [00:01<00:00,  2.71it/s]"
          ]
        },
        {
          "output_type": "stream",
          "name": "stdout",
          "text": [
            "val Loss: 0.0166 Acc: 0.7974\n"
          ]
        },
        {
          "output_type": "stream",
          "name": "stderr",
          "text": [
            "100%|██████████| 5/5 [00:01<00:00,  2.74it/s]\n"
          ]
        },
        {
          "output_type": "stream",
          "name": "stdout",
          "text": [
            "val Loss: 0.0154 Acc: 0.9477\n",
            "Epoch 10/10\n",
            "--------------------\n"
          ]
        },
        {
          "output_type": "stream",
          "name": "stderr",
          "text": [
            " 12%|█▎        | 1/8 [00:00<00:02,  2.89it/s]"
          ]
        },
        {
          "output_type": "stream",
          "name": "stdout",
          "text": [
            "train Loss: 0.0070 Acc: 0.1276\n"
          ]
        },
        {
          "output_type": "stream",
          "name": "stderr",
          "text": [
            "\r 25%|██▌       | 2/8 [00:00<00:01,  3.02it/s]"
          ]
        },
        {
          "output_type": "stream",
          "name": "stdout",
          "text": [
            "train Loss: 0.0073 Acc: 0.2593\n"
          ]
        },
        {
          "output_type": "stream",
          "name": "stderr",
          "text": [
            "\r 38%|███▊      | 3/8 [00:00<00:01,  3.01it/s]"
          ]
        },
        {
          "output_type": "stream",
          "name": "stdout",
          "text": [
            "train Loss: 0.0066 Acc: 0.3868\n"
          ]
        },
        {
          "output_type": "stream",
          "name": "stderr",
          "text": [
            "\r 50%|█████     | 4/8 [00:01<00:01,  3.01it/s]"
          ]
        },
        {
          "output_type": "stream",
          "name": "stdout",
          "text": [
            "train Loss: 0.0084 Acc: 0.5144\n"
          ]
        },
        {
          "output_type": "stream",
          "name": "stderr",
          "text": [
            "\r 62%|██████▎   | 5/8 [00:01<00:01,  2.85it/s]"
          ]
        },
        {
          "output_type": "stream",
          "name": "stdout",
          "text": [
            "train Loss: 0.0034 Acc: 0.6461\n"
          ]
        },
        {
          "output_type": "stream",
          "name": "stderr",
          "text": [
            "\r 75%|███████▌  | 6/8 [00:02<00:00,  2.93it/s]"
          ]
        },
        {
          "output_type": "stream",
          "name": "stdout",
          "text": [
            "train Loss: 0.0051 Acc: 0.7778\n"
          ]
        },
        {
          "output_type": "stream",
          "name": "stderr",
          "text": [
            "\r 88%|████████▊ | 7/8 [00:02<00:00,  2.97it/s]"
          ]
        },
        {
          "output_type": "stream",
          "name": "stdout",
          "text": [
            "train Loss: 0.0068 Acc: 0.9053\n"
          ]
        },
        {
          "output_type": "stream",
          "name": "stderr",
          "text": [
            "100%|██████████| 8/8 [00:02<00:00,  3.10it/s]\n"
          ]
        },
        {
          "output_type": "stream",
          "name": "stdout",
          "text": [
            "train Loss: 0.0058 Acc: 0.9835\n"
          ]
        },
        {
          "output_type": "stream",
          "name": "stderr",
          "text": [
            " 20%|██        | 1/5 [00:00<00:01,  2.64it/s]"
          ]
        },
        {
          "output_type": "stream",
          "name": "stdout",
          "text": [
            "val Loss: 0.0125 Acc: 0.2026\n"
          ]
        },
        {
          "output_type": "stream",
          "name": "stderr",
          "text": [
            "\r 40%|████      | 2/5 [00:00<00:01,  2.37it/s]"
          ]
        },
        {
          "output_type": "stream",
          "name": "stdout",
          "text": [
            "val Loss: 0.0155 Acc: 0.4052\n"
          ]
        },
        {
          "output_type": "stream",
          "name": "stderr",
          "text": [
            "\r 60%|██████    | 3/5 [00:01<00:00,  2.57it/s]"
          ]
        },
        {
          "output_type": "stream",
          "name": "stdout",
          "text": [
            "val Loss: 0.0287 Acc: 0.6013\n"
          ]
        },
        {
          "output_type": "stream",
          "name": "stderr",
          "text": [
            "\r 80%|████████  | 4/5 [00:01<00:00,  2.69it/s]"
          ]
        },
        {
          "output_type": "stream",
          "name": "stdout",
          "text": [
            "val Loss: 0.0126 Acc: 0.8039\n"
          ]
        },
        {
          "output_type": "stream",
          "name": "stderr",
          "text": [
            "100%|██████████| 5/5 [00:01<00:00,  2.76it/s]"
          ]
        },
        {
          "output_type": "stream",
          "name": "stdout",
          "text": [
            "val Loss: 0.0251 Acc: 0.9477\n"
          ]
        },
        {
          "output_type": "stream",
          "name": "stderr",
          "text": [
            "\n"
          ]
        }
      ]
    },
    {
      "cell_type": "code",
      "source": [
        ""
      ],
      "metadata": {
        "id": "pcUWA8JK22uR"
      },
      "execution_count": null,
      "outputs": []
    }
  ]
}